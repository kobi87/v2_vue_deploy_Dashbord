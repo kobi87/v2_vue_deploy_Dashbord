{
 "cells": [
  {
   "cell_type": "code",
   "execution_count": 1,
   "metadata": {},
   "outputs": [],
   "source": [
    "import numpy as np\n",
    "import pandas as pd\n",
    "import matplotlib.pyplot as plt\n",
    "import pickle\n",
    "\n",
    "# import the dataframe\n",
    "dataset_ready_select_features =pd.read_csv('df_mtl_features_engineering.csv')\n",
    "\n",
    "## Split data and feature slection\n",
    "from sklearn.model_selection import train_test_split\n",
    "\n",
    "#Defining the independent variables and dependent variables\n",
    "airbnb_en=dataset_ready_select_features.copy()\n",
    "airbnb_en = airbnb_en.loc[(airbnb_en['price'] < 900)]\n",
    "x = airbnb_en.drop(['price'], axis=1)\n",
    "\n",
    "# use log10 for the price for a good result\n",
    "y = airbnb_en['price'].values\n",
    "y = np.log10(y)\n",
    "\n",
    "#Getting Test and Training Set\n",
    "x_train,x_test,y_train,y_test=train_test_split(x,y,test_size=.1,random_state=42)\n",
    "\n",
    "selected_feat=['neighbourhood','property_type', 'room_type', 'accommodates', 'bedrooms', 'beds', 'bed_type',\n",
    "       'availability_365', 'instant_bookable', 'host_is_superhost', 'number_of_reviews', 'review_scores_rating']\n",
    "\n",
    "x_train=x_train[selected_feat]\n",
    "x_test =x_test[selected_feat]\n",
    "\n",
    "\n",
    "# LR Prediction Model\n",
    "from sklearn.linear_model import LinearRegression\n",
    "\n",
    "#Prepare a Linear Regression (LR) Model\n",
    "reg=LinearRegression()\n",
    "reg.fit(x_train,y_train)\n",
    "\n",
    "# Saving model to disk\n",
    "pickle.dump(reg, open('our_model.pkl','wb')) "
   ]
  },
  {
   "cell_type": "code",
   "execution_count": null,
   "metadata": {},
   "outputs": [],
   "source": []
  }
 ],
 "metadata": {
  "kernelspec": {
   "display_name": "Python 3",
   "language": "python",
   "name": "python3"
  },
  "language_info": {
   "codemirror_mode": {
    "name": "ipython",
    "version": 3
   },
   "file_extension": ".py",
   "mimetype": "text/x-python",
   "name": "python",
   "nbconvert_exporter": "python",
   "pygments_lexer": "ipython3",
   "version": "3.7.4"
  }
 },
 "nbformat": 4,
 "nbformat_minor": 4
}
